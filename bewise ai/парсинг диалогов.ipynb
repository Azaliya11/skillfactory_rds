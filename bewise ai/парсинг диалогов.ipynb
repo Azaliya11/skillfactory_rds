{
 "cells": [
  {
   "cell_type": "markdown",
   "metadata": {},
   "source": [
    "# Необходимо написать скрипт для парсинга диалогов из файла test_data.csv. \n",
    "\n",
    "## Главные задачи, которые должен выполнять скрипт:\n",
    "* Извлекать реплики с приветствием – где менеджер поздоровался. \n",
    "* Извлекать реплики, где менеджер представил себя. \n",
    "* Извлекать имя менеджера. \n",
    "* Извлекать название компании. \n",
    "* Извлекать реплики, где менеджер попрощался.\n",
    "* Проверять требование к менеджеру: «В каждом диалоге обязательно необходимо поздороваться и попрощаться с клиентом»\n"
   ]
  },
  {
   "cell_type": "code",
   "execution_count": 188,
   "metadata": {},
   "outputs": [],
   "source": [
    "# импортируем необходимые библиотеки\n",
    "import re\n",
    "\n",
    "import pandas as pd\n",
    "import numpy as np"
   ]
  },
  {
   "cell_type": "code",
   "execution_count": 189,
   "metadata": {},
   "outputs": [
    {
     "data": {
      "text/html": [
       "<div>\n",
       "<style scoped>\n",
       "    .dataframe tbody tr th:only-of-type {\n",
       "        vertical-align: middle;\n",
       "    }\n",
       "\n",
       "    .dataframe tbody tr th {\n",
       "        vertical-align: top;\n",
       "    }\n",
       "\n",
       "    .dataframe thead th {\n",
       "        text-align: right;\n",
       "    }\n",
       "</style>\n",
       "<table border=\"1\" class=\"dataframe\">\n",
       "  <thead>\n",
       "    <tr style=\"text-align: right;\">\n",
       "      <th></th>\n",
       "      <th>dlg_id</th>\n",
       "      <th>line_n</th>\n",
       "      <th>role</th>\n",
       "      <th>text</th>\n",
       "    </tr>\n",
       "  </thead>\n",
       "  <tbody>\n",
       "    <tr>\n",
       "      <th>0</th>\n",
       "      <td>0</td>\n",
       "      <td>0</td>\n",
       "      <td>client</td>\n",
       "      <td>Алло</td>\n",
       "    </tr>\n",
       "    <tr>\n",
       "      <th>1</th>\n",
       "      <td>0</td>\n",
       "      <td>1</td>\n",
       "      <td>manager</td>\n",
       "      <td>Алло здравствуйте</td>\n",
       "    </tr>\n",
       "    <tr>\n",
       "      <th>2</th>\n",
       "      <td>0</td>\n",
       "      <td>2</td>\n",
       "      <td>client</td>\n",
       "      <td>Добрый день</td>\n",
       "    </tr>\n",
       "    <tr>\n",
       "      <th>3</th>\n",
       "      <td>0</td>\n",
       "      <td>3</td>\n",
       "      <td>manager</td>\n",
       "      <td>Меня зовут ангелина компания диджитал бизнес з...</td>\n",
       "    </tr>\n",
       "    <tr>\n",
       "      <th>4</th>\n",
       "      <td>0</td>\n",
       "      <td>4</td>\n",
       "      <td>client</td>\n",
       "      <td>Ага</td>\n",
       "    </tr>\n",
       "  </tbody>\n",
       "</table>\n",
       "</div>"
      ],
      "text/plain": [
       "   dlg_id  line_n     role                                               text\n",
       "0       0       0   client                                               Алло\n",
       "1       0       1  manager                                  Алло здравствуйте\n",
       "2       0       2   client                                        Добрый день\n",
       "3       0       3  manager  Меня зовут ангелина компания диджитал бизнес з...\n",
       "4       0       4   client                                                Ага"
      ]
     },
     "execution_count": 189,
     "metadata": {},
     "output_type": "execute_result"
    }
   ],
   "source": [
    "data = pd.read_csv('test_data.csv')\n",
    "data.head()"
   ]
  },
  {
   "cell_type": "code",
   "execution_count": 190,
   "metadata": {},
   "outputs": [],
   "source": [
    "# приведем текст к нижнему регистру\n",
    "data['text'] = data['text'].apply(lambda x: x.lower())"
   ]
  },
  {
   "cell_type": "code",
   "execution_count": 191,
   "metadata": {},
   "outputs": [],
   "source": [
    "# создадим списки с различными вариантами приветствия, прощания, а также шаблоны для поиска фраз,\n",
    "# где менеджер представляет себя и для поиска названия компании\n",
    "greetings = ['здравствуйте', 'добрый день', 'добрый вечер', 'доброе утро',\n",
    "             'приветствую', 'доброго дня', 'доброго утра', 'доброго вечера']\n",
    "\n",
    "patterns = ['(меня зовут) (\\w{2,})', '(меня) (\\w{2,}) (зовут)', '(мое имя) (\\w{2,})',\n",
    "            '(это) (\\w{2,})', '(\\bя) (\\w{2,})']\n",
    "\n",
    "goodbye = ['до свидания', 'всего хорошего', 'всего доброго', 'хорошего вечера']\n",
    "\n",
    "pattern_company = ['компани. \\w{2,} бизнес', 'компани. \\w{2,}']"
   ]
  },
  {
   "cell_type": "code",
   "execution_count": 192,
   "metadata": {},
   "outputs": [],
   "source": [
    "# функция для парсинга диалогов\n",
    "def parse_dlg(dlg_id):  # на вход принимает id диалога\n",
    "    df = data[(data.dlg_id == dlg_id) & (data.role == 'manager')]\n",
    "    # словарь, куда мы будем складывать информацию о диалоге\n",
    "    info_dlg = {'greetings': None, 'introduce': None, 'name': None, 'company_name': None,\n",
    "                'goodbye': None, 'say_hello_goodbye': False}\n",
    "\n",
    "    '''пробежимся по первым строкам - очевидно, что менеджер должен приветствовать клиента и\n",
    "    представляться в одной из первых реплик'''\n",
    "    for line in df['text'][:2]:\n",
    "        for greeting in greetings:\n",
    "            result = re.search(greeting, line)\n",
    "            if result:\n",
    "                # сохраняем реплику, в которой менеджер здоровается\n",
    "                info_dlg['greetings'] = line\n",
    "                break\n",
    "\n",
    "        for pattern in patterns:\n",
    "            res = re.search(pattern, line)\n",
    "            if res:\n",
    "                # сохраняем реплику, в которой менеджер представляется\n",
    "                info_dlg['introduce'] = line\n",
    "                info_dlg['name'] = res.group(2).title()  # сохраняем имя менеджера\n",
    "                break\n",
    "\n",
    "        for pattern in pattern_company:\n",
    "            company = re.search(pattern, line)\n",
    "            if company:\n",
    "                company_name = company.group()\n",
    "                info_dlg['company_name'] = re.sub(\n",
    "                    'компани.', '', company_name).title().strip()  # сохраняем название компании\n",
    "                break\n",
    "\n",
    "    for word in goodbye:\n",
    "        bye = re.search(word, df['text'].iloc[-1])\n",
    "        if bye:\n",
    "            # сохраняем реплику, в которой менеджер прощается\n",
    "            info_dlg['goodbye'] = df['text'].iloc[-1]\n",
    "            break\n",
    "    # ставим флаг True, если менеджер и поздоровался,и попрощался с клиентом\n",
    "    if info_dlg['greetings'] and info_dlg['goodbye']:\n",
    "        info_dlg['say_hello_goodbye'] = True\n",
    "\n",
    "    return info_dlg"
   ]
  },
  {
   "cell_type": "code",
   "execution_count": 194,
   "metadata": {},
   "outputs": [
    {
     "name": "stdout",
     "output_type": "stream",
     "text": [
      "{'greetings': 'алло здравствуйте', 'introduce': 'меня зовут ангелина компания диджитал бизнес звоним вам по поводу продления лицензии а мы с серым у вас скоро срок заканчивается', 'name': 'Ангелина', 'company_name': 'Диджитал Бизнес', 'goodbye': 'всего хорошего до свидания', 'say_hello_goodbye': True}\n",
      "{'greetings': 'алло здравствуйте', 'introduce': 'меня зовут ангелина компания диджитал бизнес звоню вам по поводу продления а мы сели обратила внимание что у вас срок заканчивается', 'name': 'Ангелина', 'company_name': 'Диджитал Бизнес', 'goodbye': 'до свидания', 'say_hello_goodbye': True}\n",
      "{'greetings': 'алло здравствуйте', 'introduce': 'меня зовут ангелина компания диджитал бизнес звоню вам по поводу продления лицензии а мастера мы с вами сотрудничали по видео там', 'name': 'Ангелина', 'company_name': 'Диджитал Бизнес', 'goodbye': None, 'say_hello_goodbye': False}\n",
      "{'greetings': 'алло дмитрий добрый день', 'introduce': 'добрый меня максим зовут компания китобизнес удобно говорить', 'name': 'Максим', 'company_name': 'Китобизнес', 'goodbye': 'угу все хорошо да понедельника тогда всего доброго', 'say_hello_goodbye': True}\n",
      "{'greetings': None, 'introduce': None, 'name': None, 'company_name': None, 'goodbye': 'во вторник все ну с вами да тогда до вторника до свидания', 'say_hello_goodbye': False}\n",
      "{'greetings': None, 'introduce': 'да это анастасия', 'name': 'Анастасия', 'company_name': None, 'goodbye': 'ну до свидания хорошего вечера', 'say_hello_goodbye': False}\n"
     ]
    }
   ],
   "source": [
    "for i in range(max(data['dlg_id'])+1):\n",
    "    print(parse_dlg(i))"
   ]
  }
 ],
 "metadata": {
  "kernelspec": {
   "display_name": "Python 3",
   "language": "python",
   "name": "python3"
  },
  "language_info": {
   "codemirror_mode": {
    "name": "ipython",
    "version": 3
   },
   "file_extension": ".py",
   "mimetype": "text/x-python",
   "name": "python",
   "nbconvert_exporter": "python",
   "pygments_lexer": "ipython3",
   "version": "3.8.5"
  }
 },
 "nbformat": 4,
 "nbformat_minor": 4
}
